{
 "cells": [
  {
   "cell_type": "code",
   "execution_count": 22,
   "metadata": {
    "ExecuteTime": {
     "end_time": "2018-12-21T14:55:43.594465Z",
     "start_time": "2018-12-21T14:55:43.590554Z"
    }
   },
   "outputs": [],
   "source": [
    "from string import punctuation\n",
    "from nltk.corpus import stopwords"
   ]
  },
  {
   "cell_type": "code",
   "execution_count": 23,
   "metadata": {
    "ExecuteTime": {
     "end_time": "2018-12-21T14:55:43.847503Z",
     "start_time": "2018-12-21T14:55:43.841344Z"
    }
   },
   "outputs": [],
   "source": [
    "stop_words = stopwords.words('english') + list(punctuation)"
   ]
  },
  {
   "cell_type": "code",
   "execution_count": 16,
   "metadata": {
    "ExecuteTime": {
     "end_time": "2018-12-21T14:53:54.715949Z",
     "start_time": "2018-12-21T14:53:54.711043Z"
    }
   },
   "outputs": [],
   "source": [
    "headlines = []\n",
    "for line in open('headlines.txt', 'r'):\n",
    "    if line != '\\n': headlines.append(line.rstrip().lower())"
   ]
  },
  {
   "cell_type": "code",
   "execution_count": 17,
   "metadata": {
    "ExecuteTime": {
     "end_time": "2018-12-21T14:53:56.087197Z",
     "start_time": "2018-12-21T14:53:56.080842Z"
    }
   },
   "outputs": [
    {
     "data": {
      "text/plain": [
       "['israeli military begins sealing off cross-border tunnels from lebanon',\n",
       " 'catalan separatists seethe at spanish cabinet visit',\n",
       " 'exit of trusted mattis sparks concern among u.s. allies',\n",
       " 'turkey to delay syria operation, erdogan welcomes u.s. decision to withdraw troops',\n",
       " 'one shot dead in central vienna, manhunt under way',\n",
       " \"vienna shooting 'targeted criminal act' rather than spree: police\",\n",
       " 'finnish mp suspected of claiming sauna as his second home',\n",
       " 'mexico says will not deport migrants seeking asylum',\n",
       " \"london's gatwick airport reopens after mystery drone saboteur sows chaos\",\n",
       " 'uk defense minister to ukraine: black sea does not belong to russia']"
      ]
     },
     "execution_count": 17,
     "metadata": {},
     "output_type": "execute_result"
    }
   ],
   "source": [
    "headlines"
   ]
  },
  {
   "cell_type": "code",
   "execution_count": 24,
   "metadata": {
    "ExecuteTime": {
     "end_time": "2018-12-21T14:55:58.064291Z",
     "start_time": "2018-12-21T14:55:58.052802Z"
    }
   },
   "outputs": [],
   "source": [
    "from sklearn.feature_extraction.text import TfidfVectorizer\n",
    "vectorizer = TfidfVectorizer(max_df= , stop_words=stop_words)"
   ]
  },
  {
   "cell_type": "code",
   "execution_count": 25,
   "metadata": {
    "ExecuteTime": {
     "end_time": "2018-12-21T14:56:06.369486Z",
     "start_time": "2018-12-21T14:56:06.354476Z"
    }
   },
   "outputs": [
    {
     "name": "stdout",
     "output_type": "stream",
     "text": [
      "  (0, 28)\t0.35355339059327373\n",
      "  (0, 35)\t0.35355339059327373\n",
      "  (0, 5)\t0.35355339059327373\n",
      "  (0, 49)\t0.35355339059327373\n",
      "  (0, 16)\t0.35355339059327373\n",
      "  (0, 8)\t0.35355339059327373\n",
      "  (0, 65)\t0.35355339059327373\n",
      "  (0, 29)\t0.35355339059327373\n",
      "  (1, 10)\t0.408248290463863\n",
      "  (1, 53)\t0.408248290463863\n",
      "  (1, 52)\t0.408248290463863\n",
      "  (1, 57)\t0.408248290463863\n",
      "  (1, 9)\t0.408248290463863\n",
      "  (1, 70)\t0.408248290463863\n",
      "  (2, 24)\t0.3779644730092272\n",
      "  (2, 64)\t0.3779644730092272\n",
      "  (2, 32)\t0.3779644730092272\n",
      "  (2, 58)\t0.3779644730092272\n",
      "  (2, 14)\t0.3779644730092272\n",
      "  (2, 3)\t0.3779644730092272\n",
      "  (2, 2)\t0.3779644730092272\n",
      "  (3, 66)\t0.3333333333333333\n",
      "  (3, 20)\t0.3333333333333333\n",
      "  (3, 61)\t0.3333333333333333\n",
      "  (3, 40)\t0.3333333333333333\n",
      "  :\t:\n",
      "  (6, 50)\t0.3779644730092272\n",
      "  (6, 27)\t0.3779644730092272\n",
      "  (7, 33)\t0.408248290463863\n",
      "  (7, 47)\t0.408248290463863\n",
      "  (7, 21)\t0.408248290463863\n",
      "  (7, 34)\t0.408248290463863\n",
      "  (7, 51)\t0.408248290463863\n",
      "  (7, 4)\t0.408248290463863\n",
      "  (8, 30)\t0.3333333333333333\n",
      "  (8, 26)\t0.3333333333333333\n",
      "  (8, 1)\t0.3333333333333333\n",
      "  (8, 43)\t0.3333333333333333\n",
      "  (8, 38)\t0.3333333333333333\n",
      "  (8, 22)\t0.3333333333333333\n",
      "  (8, 45)\t0.3333333333333333\n",
      "  (8, 56)\t0.3333333333333333\n",
      "  (8, 12)\t0.3333333333333333\n",
      "  (9, 67)\t0.35355339059327373\n",
      "  (9, 19)\t0.35355339059327373\n",
      "  (9, 36)\t0.35355339059327373\n",
      "  (9, 68)\t0.35355339059327373\n",
      "  (9, 7)\t0.35355339059327373\n",
      "  (9, 48)\t0.35355339059327373\n",
      "  (9, 6)\t0.35355339059327373\n",
      "  (9, 44)\t0.35355339059327373\n"
     ]
    },
    {
     "name": "stderr",
     "output_type": "stream",
     "text": [
      "/home/incursio/anaconda2/envs/py36/lib/python3.6/site-packages/sklearn/feature_extraction/text.py:1059: FutureWarning: Conversion of the second argument of issubdtype from `float` to `np.floating` is deprecated. In future, it will be treated as `np.float64 == np.dtype(float).type`.\n",
      "  if hasattr(X, 'dtype') and np.issubdtype(X.dtype, np.float):\n"
     ]
    }
   ],
   "source": [
    "headlines_tfidf = vectorizer.fit_transform(headlines)\n",
    "print(headlines_tfidf)"
   ]
  },
  {
   "cell_type": "code",
   "execution_count": null,
   "metadata": {},
   "outputs": [],
   "source": []
  }
 ],
 "metadata": {
  "kernelspec": {
   "display_name": "Python 3",
   "language": "python",
   "name": "python3"
  },
  "language_info": {
   "codemirror_mode": {
    "name": "ipython",
    "version": 3
   },
   "file_extension": ".py",
   "mimetype": "text/x-python",
   "name": "python",
   "nbconvert_exporter": "python",
   "pygments_lexer": "ipython3",
   "version": "3.6.1"
  },
  "toc": {
   "base_numbering": 1,
   "nav_menu": {},
   "number_sections": true,
   "sideBar": true,
   "skip_h1_title": false,
   "title_cell": "Table of Contents",
   "title_sidebar": "Contents",
   "toc_cell": false,
   "toc_position": {},
   "toc_section_display": true,
   "toc_window_display": false
  }
 },
 "nbformat": 4,
 "nbformat_minor": 2
}
